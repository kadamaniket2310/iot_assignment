{
 "cells": [
  {
   "cell_type": "code",
   "execution_count": 3,
   "id": "f55daa9f-21ad-47e3-8a8e-4573e3e5e65d",
   "metadata": {},
   "outputs": [],
   "source": [
    "import pandas as pd\n",
    "import numpy as np"
   ]
  },
  {
   "cell_type": "code",
   "execution_count": 10,
   "id": "b241367e-9b3c-4365-83ac-561abadff390",
   "metadata": {},
   "outputs": [],
   "source": [
    "#1. Write a Pandas program to create and display a one-dimensional array-like object containing an array of data.\n"
   ]
  },
  {
   "cell_type": "code",
   "execution_count": 11,
   "id": "11d2675e-0fbf-4277-875d-9a9e3ecc06aa",
   "metadata": {},
   "outputs": [
    {
     "name": "stdout",
     "output_type": "stream",
     "text": [
      "<IntegerArray>\n",
      "[10, 20, 30, 40, 50, 60]\n",
      "Length: 6, dtype: Int64\n"
     ]
    }
   ],
   "source": [
    "def funtion1():\n",
    "    l1 = pd.array([10,20,30,40,50,60])\n",
    "    print(l1)\n",
    "\n",
    "funtion1()"
   ]
  },
  {
   "cell_type": "code",
   "execution_count": 8,
   "id": "6b9f5e7f-f1f1-4f0f-95df-d7724db11c51",
   "metadata": {},
   "outputs": [],
   "source": [
    "#2. Write a Pandas program to convert a Panda module Series to Python list and it’s type.\n"
   ]
  },
  {
   "cell_type": "code",
   "execution_count": 12,
   "id": "9ae425e1-c452-4083-abd2-96c26e8bb21f",
   "metadata": {},
   "outputs": [
    {
     "name": "stdout",
     "output_type": "stream",
     "text": [
      "Pandas Series and type\n",
      "0     2\n",
      "1     4\n",
      "2     6\n",
      "3     8\n",
      "4    10\n",
      "dtype: int64\n",
      "<class 'pandas.core.series.Series'>\n",
      "\n",
      "Convert Pandas Series to Python list\n",
      "[2, 4, 6, 8, 10]\n",
      "<class 'list'>\n"
     ]
    }
   ],
   "source": [
    "def funtion2():\n",
    "    a = [2, 4, 6, 8, 10] \n",
    "      \n",
    "    a = pd.Series(a) \n",
    "    print(\"Pandas Series and type\") \n",
    "    print(a) \n",
    "    print(type(a)) \n",
    "      \n",
    "    print(\"\\nConvert Pandas Series to Python list\") \n",
    "    print(a.tolist()) \n",
    "    print(type(a.tolist()))\n",
    "\n",
    "funtion2()"
   ]
  },
  {
   "cell_type": "code",
   "execution_count": 13,
   "id": "5e2f80d2-b711-4253-a7ca-4b127202eab7",
   "metadata": {},
   "outputs": [],
   "source": [
    "#3. Write a Pandas program to add, subtract, multiple and divide two Pandas Series.Sample Series: [2, 4, 6, 8, 10], [1, 3, 5, 7, 9]\n"
   ]
  },
  {
   "cell_type": "code",
   "execution_count": 17,
   "id": "c1224557-6916-46f5-b3cc-c52eb9e24a61",
   "metadata": {},
   "outputs": [
    {
     "name": "stdout",
     "output_type": "stream",
     "text": [
      "0     3\n",
      "1     7\n",
      "2    11\n",
      "3    15\n",
      "4    19\n",
      "dtype: int64\n",
      "0    1\n",
      "1    1\n",
      "2    1\n",
      "3    1\n",
      "4    1\n",
      "dtype: int64\n",
      "0     2\n",
      "1    12\n",
      "2    30\n",
      "3    56\n",
      "4    90\n",
      "dtype: int64\n",
      "0    2.000000\n",
      "1    1.333333\n",
      "2    1.200000\n",
      "3    1.142857\n",
      "4    1.111111\n",
      "dtype: float64\n"
     ]
    }
   ],
   "source": [
    "def funtion3():\n",
    "    a = pd.Series([2, 4, 6, 8, 10])\n",
    "    b = pd.Series([1, 3, 5, 7, 9])\n",
    "\n",
    "    print(a + b)\n",
    "    print(a - b)\n",
    "    print(a * b)\n",
    "    print(a / b)\n",
    "\n",
    "funtion3()\n",
    "    "
   ]
  },
  {
   "cell_type": "code",
   "execution_count": 18,
   "id": "f35d5c3b-a820-42f2-b807-4c612630178a",
   "metadata": {},
   "outputs": [],
   "source": [
    "#4. Write a Pandas program to convert a dictionary to a Pandas series.\n"
   ]
  },
  {
   "cell_type": "code",
   "execution_count": 14,
   "id": "9d694600-2913-4465-b879-e1d4a5856401",
   "metadata": {},
   "outputs": [
    {
     "name": "stdout",
     "output_type": "stream",
     "text": [
      "before convert:\n",
      "{'name': 'abc', 'age': 25, 'id': 1234}\n",
      "after convert:\n",
      "name     abc\n",
      "age       25\n",
      "id      1234\n",
      "dtype: object\n"
     ]
    }
   ],
   "source": [
    "def funtion4():\n",
    "    p1 = ({\"name\":\"abc\",\"age\":25,\"id\":1234})\n",
    "    print(\"before convert:\")\n",
    "    print(p1)\n",
    "    s1 = pd.Series(p1)\n",
    "    print(\"after convert:\")\n",
    "    print(s1)\n",
    "\n",
    "funtion4()"
   ]
  },
  {
   "cell_type": "code",
   "execution_count": null,
   "id": "38d175f1-2176-4f3c-8a56-e6f4df30f3aa",
   "metadata": {},
   "outputs": [],
   "source": [
    "#5. Write a Pandas program to convert a NumPy array to a Pandas series."
   ]
  },
  {
   "cell_type": "code",
   "execution_count": 21,
   "id": "cb706ec0-59cd-495a-828b-2460c0c2cd96",
   "metadata": {},
   "outputs": [
    {
     "name": "stdout",
     "output_type": "stream",
     "text": [
      "[10 20  1  2  3  4  5  6  7]\n",
      "0    10\n",
      "1    20\n",
      "2     1\n",
      "3     2\n",
      "4     3\n",
      "5     4\n",
      "6     5\n",
      "7     6\n",
      "8     7\n",
      "dtype: int64\n"
     ]
    }
   ],
   "source": [
    "def funtion5():\n",
    "    a = np.array([10, 20, 1, 2, 3, 4, 5, 6, 7])\n",
    "    print(a)\n",
    "    b = pd.Series(a)\n",
    "    print(b)\n",
    "\n",
    "funtion5()"
   ]
  },
  {
   "cell_type": "code",
   "execution_count": 22,
   "id": "73baedd0-e5cb-46e0-86e7-fb99eb0df51e",
   "metadata": {},
   "outputs": [],
   "source": [
    "#6. Write a Pandas program to change the data type of given a column or a Series.\n"
   ]
  },
  {
   "cell_type": "code",
   "execution_count": 30,
   "id": "c81a03be-660c-4849-b600-5b0eacdcc71e",
   "metadata": {},
   "outputs": [
    {
     "name": "stdout",
     "output_type": "stream",
     "text": [
      "0    1\n",
      "1    2\n",
      "2    3\n",
      "3    4\n",
      "4    7\n",
      "5    8\n",
      "dtype: object\n",
      "0    1\n",
      "1    2\n",
      "2    3\n",
      "3    4\n",
      "4    7\n",
      "5    8\n",
      "dtype: int64\n"
     ]
    }
   ],
   "source": [
    "def funtion6():\n",
    "    a = pd.Series(['1','2','3','4','7','8'])\n",
    "    print(a)\n",
    "    b = pd.to_numeric(a, errors='coerce')\n",
    "    print(b) \n",
    "    \n",
    "funtion6()"
   ]
  },
  {
   "cell_type": "code",
   "execution_count": 31,
   "id": "d5e7ace2-2c1f-433c-b9f6-7eb3dc9acfab",
   "metadata": {},
   "outputs": [],
   "source": [
    "#7. Write a Pandas program to convert a given Series to an array.\n"
   ]
  },
  {
   "cell_type": "code",
   "execution_count": 5,
   "id": "0c7f2dff-755b-42a8-8c3e-131cf0349199",
   "metadata": {},
   "outputs": [
    {
     "name": "stdout",
     "output_type": "stream",
     "text": [
      "original string:\n",
      "0    100\n",
      "1    200\n",
      "2    300\n",
      "3    400\n",
      "4    500\n",
      "5    600\n",
      "dtype: object\n",
      "array:\n",
      "['100' '200' '300' '400' '500' '600']\n",
      "<class 'numpy.ndarray'>\n"
     ]
    }
   ],
   "source": [
    "def funtion7():\n",
    "    s1 = pd.Series(['100','200','300','400','500','600'])\n",
    "    print(\"original string:\")\n",
    "    print(s1)\n",
    "    print(\"array:\")\n",
    "    a = s1.values\n",
    "    print(a)\n",
    "    print(type(a))\n",
    "\n",
    "funtion7()\n"
   ]
  },
  {
   "cell_type": "code",
   "execution_count": 6,
   "id": "99afa921-dcff-4bac-9b7f-4b4989633fb1",
   "metadata": {},
   "outputs": [],
   "source": [
    "#8. Write a Pandas program to create a dataframe from a dictionary and display it.\n"
   ]
  },
  {
   "cell_type": "code",
   "execution_count": 7,
   "id": "f248d12c-3b25-47fd-ad39-e571f9a4dabc",
   "metadata": {},
   "outputs": [
    {
     "name": "stdout",
     "output_type": "stream",
     "text": [
      "  name  age    id\n",
      "0   P1   25  1234\n",
      "1   P2   35   456\n"
     ]
    }
   ],
   "source": [
    "def funtion8():\n",
    "    p1 = ({\"name\":\"P1\",\"age\":25,\"id\":1234})\n",
    "    p2 = ({\"name\":\"P2\",\"age\":35,\"id\":456})\n",
    "    \n",
    "    s1 = pd.Series(p1)\n",
    "    s2 = pd.Series(p2)\n",
    "    \n",
    "    df = pd.DataFrame([s1,s2])\n",
    "    \n",
    "    print(df)\n",
    "\n",
    "funtion8()"
   ]
  },
  {
   "cell_type": "code",
   "execution_count": null,
   "id": "6fe2fa74-44a0-4d09-b2d5-1e1966a2fd79",
   "metadata": {},
   "outputs": [],
   "source": []
  }
 ],
 "metadata": {
  "kernelspec": {
   "display_name": "Python 3 (ipykernel)",
   "language": "python",
   "name": "python3"
  },
  "language_info": {
   "codemirror_mode": {
    "name": "ipython",
    "version": 3
   },
   "file_extension": ".py",
   "mimetype": "text/x-python",
   "name": "python",
   "nbconvert_exporter": "python",
   "pygments_lexer": "ipython3",
   "version": "3.10.12"
  }
 },
 "nbformat": 4,
 "nbformat_minor": 5
}
