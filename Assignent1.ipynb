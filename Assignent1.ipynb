{
 "cells": [
  {
   "cell_type": "code",
   "execution_count": null,
   "id": "545aa67a-9bbb-4366-acac-a18210119057",
   "metadata": {},
   "outputs": [],
   "source": [
    "#assignment 1"
   ]
  },
  {
   "cell_type": "code",
   "execution_count": 3,
   "id": "7e76b247-5d85-4e90-844c-1042bb7bc68d",
   "metadata": {},
   "outputs": [],
   "source": [
    "import numpy as np"
   ]
  },
  {
   "cell_type": "code",
   "execution_count": 8,
   "id": "0e2328e2-7a88-460c-ae0d-c0feeea130d5",
   "metadata": {},
   "outputs": [],
   "source": [
    "def function1():\n",
    "    arr = np.array([1,7,13,105])\n",
    "    print(arr)\n",
    "    print(f\"Size = {arr.size}\")"
   ]
  },
  {
   "cell_type": "code",
   "execution_count": 9,
   "id": "3180fd8f-97a4-4fcb-969e-b5b7563efb95",
   "metadata": {},
   "outputs": [
    {
     "name": "stdout",
     "output_type": "stream",
     "text": [
      "[  1   7  13 105]\n",
      "Size = 4\n"
     ]
    }
   ],
   "source": [
    "function1()"
   ]
  },
  {
   "cell_type": "code",
   "execution_count": 10,
   "id": "28428392-2947-440c-a69a-a18a92c0ab28",
   "metadata": {},
   "outputs": [],
   "source": [
    "#2 Write a NumPy program to create an element-wise comparison (greater,greater_equal, less and less_equal) of two given arrays.\n"
   ]
  },
  {
   "cell_type": "code",
   "execution_count": 11,
   "id": "34a84315-fdec-45f0-ab31-ddbd1734f72a",
   "metadata": {},
   "outputs": [],
   "source": [
    "def function2():\n",
    "    n1 = ([10,20,30,90])\n",
    "    n2 = ([50,20,60,80])\n",
    "    print(np.greater(n1,n2))\n",
    "    print(np.greater_equal(n1,n2))\n",
    "    print(np.less(n1,n2))\n",
    "    print(np.less_equal(n1,n2))"
   ]
  },
  {
   "cell_type": "code",
   "execution_count": 12,
   "id": "0bdcc9ac-3131-4ca7-9a8c-449e122ed555",
   "metadata": {},
   "outputs": [
    {
     "name": "stdout",
     "output_type": "stream",
     "text": [
      "[False False False  True]\n",
      "[False  True False  True]\n",
      "[ True False  True False]\n",
      "[ True  True  True False]\n"
     ]
    }
   ],
   "source": [
    "function2()"
   ]
  },
  {
   "cell_type": "code",
   "execution_count": 13,
   "id": "7ca778c3-15b6-4cd7-874f-edcf26809f4a",
   "metadata": {},
   "outputs": [],
   "source": [
    "#3 Write a NumPy program to create an array of 10 zeros, 10 ones, 10 fives, 10 tens, 10 twentys and 10 fiftys.\n"
   ]
  },
  {
   "cell_type": "code",
   "execution_count": 16,
   "id": "2d50393c-39e7-4be0-bcaa-fe2c2019742f",
   "metadata": {},
   "outputs": [],
   "source": [
    "def function3():\n",
    "    arr1 = np.zeros(10)\n",
    "    arr2 = np.ones(10)\n",
    "    arr3 = (arr2*5)\n",
    "    arr4 = (arr2*10)\n",
    "    arr5 = (arr2*20)\n",
    "    arr6 = (arr2*50)\n",
    "    print(arr1)\n",
    "    print(arr2)\n",
    "    print(arr3)\n",
    "    print(arr4)\n",
    "    print(arr5)\n",
    "    print(arr6)"
   ]
  },
  {
   "cell_type": "code",
   "execution_count": 17,
   "id": "ba779dc7-cd3b-426c-b924-9688c39c295f",
   "metadata": {},
   "outputs": [
    {
     "name": "stdout",
     "output_type": "stream",
     "text": [
      "[0. 0. 0. 0. 0. 0. 0. 0. 0. 0.]\n",
      "[1. 1. 1. 1. 1. 1. 1. 1. 1. 1.]\n",
      "[5. 5. 5. 5. 5. 5. 5. 5. 5. 5.]\n",
      "[10. 10. 10. 10. 10. 10. 10. 10. 10. 10.]\n",
      "[20. 20. 20. 20. 20. 20. 20. 20. 20. 20.]\n",
      "[50. 50. 50. 50. 50. 50. 50. 50. 50. 50.]\n"
     ]
    }
   ],
   "source": [
    "function3()"
   ]
  },
  {
   "cell_type": "code",
   "execution_count": 18,
   "id": "6f12c5eb-bb65-45e1-aee2-fd879520ff95",
   "metadata": {},
   "outputs": [],
   "source": [
    "#4 Write a NumPy program to create an array of integers from 30 to 70.\n"
   ]
  },
  {
   "cell_type": "code",
   "execution_count": 21,
   "id": "308d7aaf-e8ec-4907-8278-82a2d1f8474d",
   "metadata": {},
   "outputs": [],
   "source": [
    "def function4():\n",
    "    arr7 = np.arange(30,70)\n",
    "    print(arr7)"
   ]
  },
  {
   "cell_type": "code",
   "execution_count": 22,
   "id": "c93aaae0-d0f8-40b9-adec-0690415233da",
   "metadata": {},
   "outputs": [
    {
     "name": "stdout",
     "output_type": "stream",
     "text": [
      "[30 31 32 33 34 35 36 37 38 39 40 41 42 43 44 45 46 47 48 49 50 51 52 53\n",
      " 54 55 56 57 58 59 60 61 62 63 64 65 66 67 68 69]\n"
     ]
    }
   ],
   "source": [
    "function4()"
   ]
  },
  {
   "cell_type": "code",
   "execution_count": 23,
   "id": "2bc9520e-f56b-415f-beac-8f155e0eb3f9",
   "metadata": {},
   "outputs": [],
   "source": [
    "#5 Write a NumPy program to create an array of integers from 50 to 95.\n"
   ]
  },
  {
   "cell_type": "code",
   "execution_count": 26,
   "id": "11a5491e-cbef-4f4b-927e-25e64f176ce4",
   "metadata": {},
   "outputs": [
    {
     "name": "stdout",
     "output_type": "stream",
     "text": [
      "[50 51 52 53 54 55 56 57 58 59 60 61 62 63 64 65 66 67 68 69 70 71 72 73\n",
      " 74 75 76 77 78 79 80 81 82 83 84 85 86 87 88 89 90 91 92 93 94]\n"
     ]
    }
   ],
   "source": [
    "def function5():\n",
    "    arr8 = np.arange(50,95)\n",
    "    print(arr8)\n",
    "\n",
    "function5()"
   ]
  },
  {
   "cell_type": "code",
   "execution_count": 27,
   "id": "9afcc661-085c-4e86-b977-d0d9e7c26925",
   "metadata": {},
   "outputs": [],
   "source": [
    "#6 Write a NumPy program to create an array of all even integers from 20 to 80.\n"
   ]
  },
  {
   "cell_type": "code",
   "execution_count": 28,
   "id": "354a63e7-63da-4383-a8af-f031d1869ede",
   "metadata": {},
   "outputs": [
    {
     "name": "stdout",
     "output_type": "stream",
     "text": [
      "[20 21 22 23 24 25 26 27 28 29 30 31 32 33 34 35 36 37 38 39 40 41 42 43\n",
      " 44 45 46 47 48 49 50 51 52 53 54 55 56 57 58 59 60 61 62 63 64 65 66 67\n",
      " 68 69 70 71 72 73 74 75 76 77 78 79 80 81 82 83 84 85 86 87]\n"
     ]
    }
   ],
   "source": [
    "def function6():\n",
    "    arr9 = np.arange(20,88)\n",
    "    print(arr9)\n",
    "\n",
    "function6()"
   ]
  },
  {
   "cell_type": "code",
   "execution_count": 29,
   "id": "3bb921c1-8b07-421d-b88a-4188a041c0b3",
   "metadata": {},
   "outputs": [],
   "source": [
    "#7  Write a NumPy program to create an array of all odd integers from 20 to 80.\n"
   ]
  },
  {
   "cell_type": "code",
   "execution_count": 30,
   "id": "63947de8-df4b-4e08-abdf-54d939499417",
   "metadata": {},
   "outputs": [
    {
     "name": "stdout",
     "output_type": "stream",
     "text": [
      "[21 23 25 27 29 31 33 35 37 39 41 43 45 47 49 51 53 55 57 59 61 63 65 67\n",
      " 69 71 73 75 77 79]\n"
     ]
    }
   ],
   "source": [
    "def function7():\n",
    "    arr10 = np.arange(21,81,2)\n",
    "    print(arr10)\n",
    "\n",
    "function7()"
   ]
  },
  {
   "cell_type": "code",
   "execution_count": 31,
   "id": "32e3da24-b3f5-4fb4-b789-66d71eca7fc6",
   "metadata": {},
   "outputs": [],
   "source": [
    "#8. Write a NumPy program to generate an array of 15 random numbers from 10 to 40.\n"
   ]
  },
  {
   "cell_type": "code",
   "execution_count": 34,
   "id": "92ac5964-69e1-4ba9-851c-4433d938aba1",
   "metadata": {},
   "outputs": [
    {
     "name": "stdout",
     "output_type": "stream",
     "text": [
      "[26 22 23 24 22 25 26 39 33 34 31 19 13 15 11]\n"
     ]
    }
   ],
   "source": [
    "def function8():\n",
    "    arr11 = np.random.randint(10,40,15)\n",
    "    print(arr11)\n",
    "\n",
    "function8()"
   ]
  },
  {
   "cell_type": "code",
   "execution_count": 35,
   "id": "67ec0c5b-3f7d-400f-a2e9-b35b4a6337cc",
   "metadata": {},
   "outputs": [],
   "source": [
    "#9. Write a NumPy program to generate an array of 10 random numbers from 30 to 50.\n"
   ]
  },
  {
   "cell_type": "code",
   "execution_count": 38,
   "id": "6737702f-95d6-4a44-8390-21f677cf96a9",
   "metadata": {},
   "outputs": [
    {
     "name": "stdout",
     "output_type": "stream",
     "text": [
      "[31 35 51 36 46 34 33 32 33 53]\n"
     ]
    }
   ],
   "source": [
    "def function9():\n",
    "    arr12 = np.random.randint(30,56,10)\n",
    "    print(arr12)\n",
    "\n",
    "function9()"
   ]
  },
  {
   "cell_type": "code",
   "execution_count": 39,
   "id": "b367cc31-aa07-4a38-bece-4196319b1b33",
   "metadata": {},
   "outputs": [],
   "source": [
    "#10. Write a NumPy program to generate an array of 20 random numbers from 50 to 90.\n"
   ]
  },
  {
   "cell_type": "code",
   "execution_count": 41,
   "id": "363e067b-88eb-4a3b-988a-bee664d775fd",
   "metadata": {},
   "outputs": [
    {
     "name": "stdout",
     "output_type": "stream",
     "text": [
      "[74 75 81 70 52 74 64 88 73 63 65 60 62 55 50 78 57 77 63 82]\n"
     ]
    }
   ],
   "source": [
    "def function10():\n",
    "    arr13 = np.random.randint(50,90,20)\n",
    "    print(arr13)\n",
    "\n",
    "function10()"
   ]
  },
  {
   "cell_type": "code",
   "execution_count": 42,
   "id": "e17a1577-2a47-4291-9fb7-c4f18104fb95",
   "metadata": {},
   "outputs": [],
   "source": [
    "#11. Create any two arrays & perform various mathematical operations.i.e. Addition, Substraction, Multiplication, Divide.\n"
   ]
  },
  {
   "cell_type": "code",
   "execution_count": 43,
   "id": "35229ec8-5be7-4aa5-98eb-cee355f57f4a",
   "metadata": {},
   "outputs": [
    {
     "name": "stdout",
     "output_type": "stream",
     "text": [
      "N1 = [10 20 30 40 50]\n",
      "N2 = [ 2  4  6  8 10]\n",
      "[12 24 36 48 60]\n",
      "[ 8 16 24 32 40]\n",
      "[ 20  80 180 320 500]\n",
      "[5. 5. 5. 5. 5.]\n"
     ]
    }
   ],
   "source": [
    "def function11():\n",
    "    n1 = np.array([10,20,30,40,50])\n",
    "    n2 = np.array([2,4,6,8,10])\n",
    "    print(f\"N1 = {n1}\")\n",
    "    print(f\"N2 = {n2}\")\n",
    "    print(n1+n2)\n",
    "    print(n1-n2)\n",
    "    print(n1*n2)\n",
    "    print(n1/n2)\n",
    "\n",
    "function11()"
   ]
  },
  {
   "cell_type": "code",
   "execution_count": 44,
   "id": "50f2f239-a9f0-4b8f-a7fe-2998db4aa86e",
   "metadata": {},
   "outputs": [],
   "source": [
    "#12. Write a NumPy program to create a 3x4 matrix filled with values from 10 to 21.\n"
   ]
  },
  {
   "cell_type": "code",
   "execution_count": 45,
   "id": "91c84775-d5da-4582-bfeb-f59a2c26f91c",
   "metadata": {},
   "outputs": [
    {
     "name": "stdout",
     "output_type": "stream",
     "text": [
      "[[10 11 12 13]\n",
      " [14 15 16 17]\n",
      " [18 19 20 21]]\n"
     ]
    }
   ],
   "source": [
    "def function12():\n",
    "    n1 = np.arange(10,22).reshape(3,4)\n",
    "    print(n1)\n",
    "\n",
    "function12()"
   ]
  },
  {
   "cell_type": "code",
   "execution_count": 46,
   "id": "f9cd3e11-62d7-4668-b5a7-07292dc44741",
   "metadata": {},
   "outputs": [],
   "source": [
    "#13. Write a NumPy program to create a 3x3 identity matrix, i.e. the diagonal elements are 1, the rest are 0.\n"
   ]
  },
  {
   "cell_type": "code",
   "execution_count": 51,
   "id": "b7d71628-77f4-4e2b-8e81-674befff7d36",
   "metadata": {},
   "outputs": [
    {
     "name": "stdout",
     "output_type": "stream",
     "text": [
      "[[1. 0. 0.]\n",
      " [0. 1. 0.]\n",
      " [0. 0. 1.]]\n"
     ]
    }
   ],
   "source": [
    "def function13():\n",
    "     n2 = np.eye(3)\n",
    "     print(n2)\n",
    "\n",
    "function13()"
   ]
  },
  {
   "cell_type": "code",
   "execution_count": 52,
   "id": "a4c5bcac-e870-4b4d-8bae-d85eb49ee0f7",
   "metadata": {},
   "outputs": [],
   "source": [
    "#14. Write a NumPy program to find the number of rows and columns in a given matrix. \n"
   ]
  },
  {
   "cell_type": "code",
   "execution_count": 54,
   "id": "6ee895c6-596c-4468-9e8d-ca47817ec18d",
   "metadata": {},
   "outputs": [
    {
     "name": "stdout",
     "output_type": "stream",
     "text": [
      "rows: 2 and columns: 3\n"
     ]
    }
   ],
   "source": [
    "def function14():\n",
    "    matrix = np.matrix([[10,20,30],[11,22,33]])\n",
    "    X = matrix.shape\n",
    "    rows, columns = X\n",
    "    print(f\"rows: {rows} and columns: {columns}\")\n",
    "\n",
    "function14()"
   ]
  },
  {
   "cell_type": "code",
   "execution_count": 55,
   "id": "acb502ae-1a5b-45ad-823d-7b41b937ebf0",
   "metadata": {},
   "outputs": [],
   "source": [
    "#15. Write a NumPy program to create a 5x5 zero matrix with elements on the main diagonal equal to 1, 2, 3, 4, 5.\n"
   ]
  },
  {
   "cell_type": "code",
   "execution_count": 58,
   "id": "a4b76c67-bb8a-4be2-969d-d3f720aa319c",
   "metadata": {},
   "outputs": [
    {
     "name": "stdout",
     "output_type": "stream",
     "text": [
      "[[1 0 0 0 0]\n",
      " [0 2 0 0 0]\n",
      " [0 0 3 0 0]\n",
      " [0 0 0 4 0]\n",
      " [0 0 0 0 5]]\n"
     ]
    }
   ],
   "source": [
    "def function15():\n",
    "    x = np.diag([1, 2, 3, 4, 5])\n",
    "    print(x)\n",
    "\n",
    "function15()"
   ]
  },
  {
   "cell_type": "code",
   "execution_count": 59,
   "id": "7600b93c-6d26-4772-8623-6b1588b41107",
   "metadata": {},
   "outputs": [],
   "source": [
    "#16. Write a NumPy program to create a 3x3x3 array filled with arbitrary values.\n"
   ]
  },
  {
   "cell_type": "code",
   "execution_count": 63,
   "id": "08ca2f6a-a9a5-4f02-b76c-63a274f10c4e",
   "metadata": {},
   "outputs": [
    {
     "name": "stdout",
     "output_type": "stream",
     "text": [
      "[[[0.34979155 0.67884344 0.52442357]\n",
      "  [0.50352921 0.11599593 0.3741711 ]\n",
      "  [0.30718295 0.79598693 0.92263918]]\n",
      "\n",
      " [[0.20526247 0.66151211 0.66437946]\n",
      "  [0.04172057 0.4372277  0.32182863]\n",
      "  [0.28876233 0.96032213 0.87332399]]\n",
      "\n",
      " [[0.84603882 0.85359575 0.67667343]\n",
      "  [0.54679003 0.87640139 0.52176857]\n",
      "  [0.70078331 0.09034597 0.75046408]]]\n"
     ]
    }
   ],
   "source": [
    "def function16():\n",
    "    x = np.random.random((3,3,3))\n",
    "    print(x)\n",
    "\n",
    "function16()"
   ]
  },
  {
   "cell_type": "code",
   "execution_count": 64,
   "id": "c5840df3-4940-41ee-9287-1050d1811b64",
   "metadata": {},
   "outputs": [],
   "source": [
    "#17. Write a NumPy program to create a 2x3x4 array filled with arbitrary values.\n"
   ]
  },
  {
   "cell_type": "code",
   "execution_count": 65,
   "id": "60c44b58-3f88-4c48-b568-b7e609f3d790",
   "metadata": {},
   "outputs": [
    {
     "name": "stdout",
     "output_type": "stream",
     "text": [
      "[[[0.26203194 0.29836445 0.0245099  0.27907558]\n",
      "  [0.43860875 0.73412605 0.98318496 0.28491776]\n",
      "  [0.40098273 0.41263568 0.55532333 0.63317049]]\n",
      "\n",
      " [[0.3035926  0.5069706  0.25593283 0.28896114]\n",
      "  [0.60867871 0.54311407 0.69590415 0.88519545]\n",
      "  [0.13378078 0.00869367 0.5354828  0.75580575]]]\n"
     ]
    }
   ],
   "source": [
    "def function17():\n",
    "    x = np.random.random((2,3,4))\n",
    "    print(x)\n",
    "\n",
    "function17()"
   ]
  },
  {
   "cell_type": "code",
   "execution_count": 66,
   "id": "c398d71a-ee87-4edf-928e-056c95e9e0c7",
   "metadata": {},
   "outputs": [],
   "source": [
    "#18. Write a NumPy program to convert a list of numeric values into a one-dimensional NumPy array.\n"
   ]
  },
  {
   "cell_type": "code",
   "execution_count": 70,
   "id": "ab7f6457-8e94-4c25-9ac4-11713193b71e",
   "metadata": {},
   "outputs": [
    {
     "name": "stdout",
     "output_type": "stream",
     "text": [
      "original array [10, 20, 30, 40, 50]\n",
      "1-D numpy array [10 20 30 40 50]\n"
     ]
    }
   ],
   "source": [
    "def function18():\n",
    "    l =([10,20,30,40,50])\n",
    "    print(f\"original array {l}\")\n",
    "    n1 = np.array(l)\n",
    "    print(f\"1-D numpy array {n1}\")\n",
    "\n",
    "function18()"
   ]
  },
  {
   "cell_type": "code",
   "execution_count": 71,
   "id": "f054c095-b36c-4804-b349-fccfbe6184c5",
   "metadata": {},
   "outputs": [],
   "source": [
    "#19. Write a NumPy program to create a 3x3 matrix with values ranging from 2 to 10.\n"
   ]
  },
  {
   "cell_type": "code",
   "execution_count": 75,
   "id": "4d32a3a8-e543-47df-8c5f-233cafc4f49d",
   "metadata": {},
   "outputs": [
    {
     "name": "stdout",
     "output_type": "stream",
     "text": [
      "[[ 2  3  4]\n",
      " [ 5  6  7]\n",
      " [ 8  9 10]]\n"
     ]
    }
   ],
   "source": [
    "def function19():\n",
    "    a = np.arange(2,11).reshape(3,3)\n",
    "    print(a)\n",
    "\n",
    "function19()"
   ]
  },
  {
   "cell_type": "code",
   "execution_count": 76,
   "id": "14a68065-e04b-4090-b1cb-2f4dec8a1012",
   "metadata": {},
   "outputs": [],
   "source": [
    "#20. Write a NumPy program to create an array with values ranging from 12 to 38.\n"
   ]
  },
  {
   "cell_type": "code",
   "execution_count": 77,
   "id": "9cadb12f-534f-402b-a533-bd3a88ca8040",
   "metadata": {},
   "outputs": [
    {
     "name": "stdout",
     "output_type": "stream",
     "text": [
      "[12 13 14 15 16 17 18 19 20 21 22 23 24 25 26 27 28 29 30 31 32 33 34 35\n",
      " 36 37]\n"
     ]
    }
   ],
   "source": [
    "def function20():\n",
    "    a = np.arange(12,38)\n",
    "    print(a)\n",
    "\n",
    "function20()"
   ]
  },
  {
   "cell_type": "code",
   "execution_count": 78,
   "id": "4eb28c79-a6be-4d7d-9c57-f831b0ebab54",
   "metadata": {},
   "outputs": [],
   "source": [
    "#21. Write a NumPy program to reverse an array (the first element becomes the last).\n"
   ]
  },
  {
   "cell_type": "code",
   "execution_count": 80,
   "id": "6acc08c6-7d81-4b19-803c-d593796f1151",
   "metadata": {},
   "outputs": [
    {
     "name": "stdout",
     "output_type": "stream",
     "text": [
      "[1 2 3 4 7 8]\n",
      "[8 7 4 3 2 1]\n"
     ]
    }
   ],
   "source": [
    "def function21():\n",
    "    int_array = np.array([1,2,3,4,7,8])\n",
    "    print(int_array)\n",
    "    a = np.flip(int_array)\n",
    "    print(a)\n",
    "\n",
    "function21()"
   ]
  },
  {
   "cell_type": "code",
   "execution_count": 81,
   "id": "7c65e96c-c05c-488d-bf47-b24f4f290272",
   "metadata": {},
   "outputs": [],
   "source": [
    "#22. Write a NumPy program to convert an data type into to a floating type.\n"
   ]
  },
  {
   "cell_type": "code",
   "execution_count": 83,
   "id": "671ad025-5ca0-44c1-8d30-92acb8741235",
   "metadata": {},
   "outputs": [
    {
     "name": "stdout",
     "output_type": "stream",
     "text": [
      "Original Array (Integer): ['1.1' '2.2' '3.3' '4.4']\n",
      "Converted Array (Float): [1.1 2.2 3.3 4.4]\n"
     ]
    }
   ],
   "source": [
    "def function22():\n",
    "     \n",
    "    integer_array = np.array([\"1.1\", \"2.2\", \"3.3\", \"4.4\"])\n",
    "    float_array = np.array(integer_array, dtype=float)\n",
    "    print(\"Original Array (Integer):\", integer_array)\n",
    "    print(\"Converted Array (Float):\", float_array)\n",
    "\n",
    "\n",
    "function22()"
   ]
  },
  {
   "cell_type": "code",
   "execution_count": 84,
   "id": "49ff8f53-b3c4-418e-a1ce-3f24d0f2513c",
   "metadata": {},
   "outputs": [],
   "source": [
    "#23. Write a NumPy program to convert a list array."
   ]
  },
  {
   "cell_type": "code",
   "execution_count": 91,
   "id": "b5a23b5b-c989-4c4a-b235-ba858cbd28b1",
   "metadata": {},
   "outputs": [
    {
     "name": "stdout",
     "output_type": "stream",
     "text": [
      "Before conversion : [1 2 3 4 7 8]\n",
      "<class 'numpy.ndarray'>\n",
      "\n",
      "After conversion:  <class 'list'>\n",
      "[1, 2, 3, 4, 7, 8]\n"
     ]
    }
   ],
   "source": [
    "def function23():\n",
    "    arr = np.array([1,2,3,4,7,8])\n",
    "    print(\"Before conversion :\",arr)\n",
    "    print(type(arr))\n",
    "    arr = list(arr)\n",
    "    print(\"\\nAfter conversion: \", type(arr))\n",
    "    print(arr)\n",
    "\n",
    "function23()"
   ]
  },
  {
   "cell_type": "code",
   "execution_count": 92,
   "id": "cda2067f-c6d7-4fda-8adf-4a13e25c15fb",
   "metadata": {},
   "outputs": [],
   "source": [
    "#24. Write a NumPy program to get the element-wise remainder of an array of division.\n"
   ]
  },
  {
   "cell_type": "code",
   "execution_count": 93,
   "id": "66048e5f-1065-4582-a083-5d4692333954",
   "metadata": {},
   "outputs": [
    {
     "name": "stdout",
     "output_type": "stream",
     "text": [
      "Dividend array :  [11 23 33 45 55]\n",
      "Divisor array :  [2 4 5 6 9]\n",
      "Output remainder array:  [1 3 3 3 1]\n"
     ]
    }
   ],
   "source": [
    "def function24():\n",
    "    arr1 = np.array([11,23,33,45,55])\n",
    "    arr2 = np.array([2,4,5,6,9])\n",
    "    print (\"Dividend array : \",arr1) \n",
    "    print (\"Divisor array : \", arr2) \n",
    "    arr = np.remainder(arr1, arr2)  \n",
    "    print (\"Output remainder array: \", arr) \n",
    "\n",
    "function24()"
   ]
  },
  {
   "cell_type": "code",
   "execution_count": 1,
   "id": "bac4568b-fba7-48f0-a8fd-238e38a32df7",
   "metadata": {},
   "outputs": [],
   "source": [
    "#25. Write a NumPy program to get the element-wise remainder of an array of numbers from 20 to 50 which are divisible by 3."
   ]
  },
  {
   "cell_type": "code",
   "execution_count": 4,
   "id": "94e2e126-b122-4b7d-8369-b1d756ccdb69",
   "metadata": {},
   "outputs": [
    {
     "name": "stdout",
     "output_type": "stream",
     "text": [
      "original array [20 21 22 23 24 25 26 27 28 29 30 31 32 33 34 35 36 37 38 39 40 41 42 43\n",
      " 44 45 46 47 48 49]\n",
      "after division\n",
      "[ 6.66666667  7.          7.33333333  7.66666667  8.          8.33333333\n",
      "  8.66666667  9.          9.33333333  9.66666667 10.         10.33333333\n",
      " 10.66666667 11.         11.33333333 11.66666667 12.         12.33333333\n",
      " 12.66666667 13.         13.33333333 13.66666667 14.         14.33333333\n",
      " 14.66666667 15.         15.33333333 15.66666667 16.         16.33333333]\n"
     ]
    }
   ],
   "source": [
    "def function25():\n",
    "    x = np.arange(20,50)\n",
    "    print(f\"original array {x}\")\n",
    "    print(\"after division\")\n",
    "    print(np.true_divide(x, 3)) \n",
    "\n",
    "function25()"
   ]
  },
  {
   "cell_type": "code",
   "execution_count": null,
   "id": "cbef7e49-0855-41a5-81f6-27c3dce2e8e6",
   "metadata": {},
   "outputs": [],
   "source": []
  }
 ],
 "metadata": {
  "kernelspec": {
   "display_name": "Python 3 (ipykernel)",
   "language": "python",
   "name": "python3"
  },
  "language_info": {
   "codemirror_mode": {
    "name": "ipython",
    "version": 3
   },
   "file_extension": ".py",
   "mimetype": "text/x-python",
   "name": "python",
   "nbconvert_exporter": "python",
   "pygments_lexer": "ipython3",
   "version": "3.10.12"
  }
 },
 "nbformat": 4,
 "nbformat_minor": 5
}
